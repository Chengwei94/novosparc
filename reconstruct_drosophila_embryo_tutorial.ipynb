{
 "cells": [
  {
   "cell_type": "markdown",
   "metadata": {},
   "source": [
    "# Reconstructing the Drosophila embryo\n",
    "This tutorial demonstrates how to use `novoSpaRc` to reconstruct single-cell gene expression by using the Drosophila scRNA-seq dataset [Karaiskos et al., 2017, Science]. The two modes of `novoSpaRc` are described: (1) de novo, without any prior information and (2) with using a set of gene expression markers."
   ]
  },
  {
   "cell_type": "code",
   "execution_count": 19,
   "metadata": {},
   "outputs": [],
   "source": [
    "import numpy as np\n",
    "import novosparc\n",
    "import matplotlib\n",
    "import matplotlib.pyplot as plt\n",
    "from scipy.spatial.distance import cdist\n",
    "import matplotlib\n",
    "matplotlib.use('TKAgg',warn=False, force=True)"
   ]
  },
  {
   "cell_type": "markdown",
   "metadata": {},
   "source": [
    "## Import data\n",
    "Import the gene names and the gene expression matrix. Although `novoSpaRc` can also operate on raw data, it performs much better when the gene expression matrix is already normalized. Note the format: cells in rows and genes in columns."
   ]
  },
  {
   "cell_type": "code",
   "execution_count": 20,
   "metadata": {},
   "outputs": [],
   "source": [
    "data_path = 'novosparc/datasets/drosophila_scRNAseq/dge_normalized.txt'\n",
    "dataset = novosparc.io.load_data(data_path).T"
   ]
  },
  {
   "cell_type": "markdown",
   "metadata": {},
   "source": [
    "Display some information about the dataset"
   ]
  },
  {
   "cell_type": "code",
   "execution_count": 21,
   "metadata": {},
   "outputs": [
    {
     "name": "stdout",
     "output_type": "stream",
     "text": [
      "['128up' '140up' '14-3-3epsilon' ... 'zyd' 'zye' 'Zyx']\n",
      "total number of genes in the data: 8924 \n",
      "\n",
      "[[2.57  1.16  8.838 ... 1.16  0.    3.443]\n",
      " [2.509 3.007 8.788 ... 1.742 0.    4.305]\n",
      " [0.    0.    8.843 ... 0.    0.    4.082]\n",
      " ...\n",
      " [1.972 2.775 8.333 ... 0.    0.    3.665]\n",
      " [0.    0.    8.554 ... 0.    0.    5.354]\n",
      " [0.    0.    7.78  ... 0.    0.    3.962]]\n",
      "number of cells and genes in the matrix: (1297, 8924)\n"
     ]
    }
   ],
   "source": [
    "gene_names = np.asarray(dataset.var.index.tolist())\n",
    "dge = dataset.X\n",
    "print ( gene_names)\n",
    "print ('total number of genes in the data:', len(gene_names), '\\n')\n",
    "print (dge)\n",
    "print ('number of cells and genes in the matrix:', dge.shape)"
   ]
  },
  {
   "cell_type": "markdown",
   "metadata": {},
   "source": [
    "It is advisable to subset the gene expression matrix to the highly variable genes. Following reads a file with the list of highly variable genes to subset the dataset. Alternatively, scanpy highly variable gene functions can be used directly on the dataset to calculate the highly variable genes."
   ]
  },
  {
   "cell_type": "code",
   "execution_count": 22,
   "metadata": {},
   "outputs": [
    {
     "name": "stdout",
     "output_type": "stream",
     "text": [
      "number of highly variable genes: 476\n",
      "number of cells and genes in the matrix: (1297, 476)\n"
     ]
    }
   ],
   "source": [
    "dataset.raw = dataset # this stores the current dataset with all the genes for future use\n",
    "\n",
    "hvg_path = 'novosparc/datasets/drosophila_scRNAseq/high_var_genes.txt'\n",
    "dataset, hvg = novosparc.pp.subset_to_hvg(dataset, hvg_file = hvg_path)\n",
    "\n",
    "print ('number of highly variable genes:', len(hvg))\n",
    "print ('number of cells and genes in the matrix:', dataset.X.shape)"
   ]
  },
  {
   "cell_type": "markdown",
   "metadata": {},
   "source": [
    "### Optional: subsample the gene expression matrix\n",
    "Subsample the matrix to a smaller number of cells. This helps to first setup the whole reconstruction script quickly and to later assess robustness of the different spatial reconstructions. "
   ]
  },
  {
   "cell_type": "code",
   "execution_count": 23,
   "metadata": {},
   "outputs": [],
   "source": [
    "#cells_selected, dataset = novosparc.pp.subsample_dataset(dataset, 50)"
   ]
  },
  {
   "cell_type": "markdown",
   "metadata": {},
   "source": [
    "## Create the target space\n",
    "Creating the target space that represents the biological tissue plays an important role, as it influences the geometric component of the reconstruction. In the case where the physical cellular locations are known, such as in the case of the early Drosophila embryo, it is better to use these:"
   ]
  },
  {
   "cell_type": "code",
   "execution_count": 24,
   "metadata": {},
   "outputs": [
    {
     "ename": "TypeError",
     "evalue": "load_target_space() got an unexpected keyword argument 'is_2D'",
     "output_type": "error",
     "traceback": [
      "\u001b[0;31m---------------------------------------------------------------------------\u001b[0m",
      "\u001b[0;31mTypeError\u001b[0m                                 Traceback (most recent call last)",
      "\u001b[0;32m<ipython-input-24-758aec461f1e>\u001b[0m in \u001b[0;36m<module>\u001b[0;34m\u001b[0m\n\u001b[1;32m      1\u001b[0m \u001b[0mtarget_space_path\u001b[0m \u001b[0;34m=\u001b[0m \u001b[0;34m'novosparc/datasets/bdtnp/geometry.txt'\u001b[0m\u001b[0;34m\u001b[0m\u001b[0;34m\u001b[0m\u001b[0m\n\u001b[0;32m----> 2\u001b[0;31m \u001b[0mlocations\u001b[0m \u001b[0;34m=\u001b[0m \u001b[0mnovosparc\u001b[0m\u001b[0;34m.\u001b[0m\u001b[0mio\u001b[0m\u001b[0;34m.\u001b[0m\u001b[0mload_target_space\u001b[0m\u001b[0;34m(\u001b[0m\u001b[0mtarget_space_path\u001b[0m\u001b[0;34m,\u001b[0m \u001b[0mis_2D\u001b[0m\u001b[0;34m=\u001b[0m\u001b[0;32mTrue\u001b[0m\u001b[0;34m)\u001b[0m\u001b[0;34m\u001b[0m\u001b[0;34m\u001b[0m\u001b[0m\n\u001b[0m\u001b[1;32m      3\u001b[0m \u001b[0mlocations\u001b[0m \u001b[0;34m=\u001b[0m \u001b[0mlocations\u001b[0m\u001b[0;34m[\u001b[0m\u001b[0mnp\u001b[0m\u001b[0;34m.\u001b[0m\u001b[0mrandom\u001b[0m\u001b[0;34m.\u001b[0m\u001b[0mchoice\u001b[0m\u001b[0;34m(\u001b[0m\u001b[0mlocations\u001b[0m\u001b[0;34m.\u001b[0m\u001b[0mshape\u001b[0m\u001b[0;34m[\u001b[0m\u001b[0;36m0\u001b[0m\u001b[0;34m]\u001b[0m\u001b[0;34m,\u001b[0m \u001b[0;36m3039\u001b[0m\u001b[0;34m)\u001b[0m\u001b[0;34m,\u001b[0m \u001b[0;34m:\u001b[0m\u001b[0;34m]\u001b[0m\u001b[0;34m\u001b[0m\u001b[0;34m\u001b[0m\u001b[0m\n",
      "\u001b[0;31mTypeError\u001b[0m: load_target_space() got an unexpected keyword argument 'is_2D'"
     ]
    }
   ],
   "source": [
    "target_space_path = 'novosparc/datasets/bdtnp/geometry.txt'\n",
    "locations = novosparc.io.load_target_space(target_space_path, is_2D=True)\n",
    "locations = locations[np.random.choice(locations.shape[0], 3039), :]"
   ]
  },
  {
   "cell_type": "code",
   "execution_count": null,
   "metadata": {},
   "outputs": [],
   "source": [
    "print ('dimensions of tissue space:', locations.shape, '\\n')\n",
    "print (locations)"
   ]
  },
  {
   "cell_type": "code",
   "execution_count": null,
   "metadata": {},
   "outputs": [],
   "source": [
    "%matplotlib inline\n",
    "plt.figure()\n",
    "plt.scatter(locations[:, 0], locations[:, 1], s=1)\n",
    "plt.show()\n",
    "plt.close()"
   ]
  },
  {
   "cell_type": "markdown",
   "metadata": {},
   "source": [
    "### Alternative tissue spaces\n",
    "If the cellular locations are not known, the user needs to create. `novoSpaRc` has currently two functions that enable a quick construction of target spaces.\n",
    "#### Map to a rectangular grid\n",
    "The function `construct_target_grid` can be used to construct a basic rectangular grid as target space. The only parameter is the total number of cellular locations on the target grid."
   ]
  },
  {
   "cell_type": "code",
   "execution_count": 25,
   "metadata": {},
   "outputs": [],
   "source": [
    "locations = novosparc.geometry.construct_target_grid(500)\n",
    "plt.figure()\n",
    "plt.scatter(locations[:, 0], locations[:, 1], s=1)\n",
    "plt.show()\n",
    "plt.close()"
   ]
  },
  {
   "cell_type": "markdown",
   "metadata": {},
   "source": [
    "#### Map to a user-generated space\n",
    "The function `create_target_space_from_image` creates a target space by using a user-generated image. The image has to be a black shape drawn onto a white background, as the one below:"
   ]
  },
  {
   "cell_type": "markdown",
   "metadata": {},
   "source": [
    "<div>\n",
    "<img src=\"https://raw.githubusercontent.com/nukappa/nukappa.github.io/master/images/tissue_example.png\", width=\"250\"/>\n",
    "</div>"
   ]
  },
  {
   "cell_type": "code",
   "execution_count": 26,
   "metadata": {},
   "outputs": [],
   "source": [
    "tissue_path = 'novosparc/datasets/tissue_example.png'\n",
    "locations = novosparc.geometry.create_target_space_from_image(tissue_path)"
   ]
  },
  {
   "cell_type": "markdown",
   "metadata": {},
   "source": [
    "This will probably create a very large number of locations, so it's better to subsample them."
   ]
  },
  {
   "cell_type": "code",
   "execution_count": 27,
   "metadata": {},
   "outputs": [
    {
     "name": "stdout",
     "output_type": "stream",
     "text": [
      "dimension of original tissue space: (125058, 2)\n",
      "dimension of downsampled tissue space: (3039, 2)\n"
     ]
    }
   ],
   "source": [
    "print ('dimension of original tissue space:', locations.shape)\n",
    "locations = locations[np.random.choice(locations.shape[0], 3039), :]\n",
    "num_locations = locations.shape[0]\n",
    "print ('dimension of downsampled tissue space:', locations.shape)\n",
    "plt.figure()\n",
    "plt.scatter(locations[:, 0], locations[:, 1], s=1)\n",
    "plt.show()\n",
    "plt.close()"
   ]
  },
  {
   "cell_type": "markdown",
   "metadata": {},
   "source": [
    "## Reconstruct the tissue de novo\n",
    "We first prepare for the reconstruction by computing the cost matrices. If the tissue space is 1-dimensional (e.g. a line), `num_neighbors` can be reduced to 3."
   ]
  },
  {
   "cell_type": "markdown",
   "metadata": {},
   "source": [
    "We first create a Tissue object. This is initiated by using the single cell dataset, location coordinates and the output folder to save the results."
   ]
  },
  {
   "cell_type": "code",
   "execution_count": 28,
   "metadata": {},
   "outputs": [],
   "source": [
    "tissue = novosparc.cm.Tissue(dataset=dataset, locations=locations)"
   ]
  },
  {
   "cell_type": "markdown",
   "metadata": {},
   "source": [
    "Then, we prepare for the reconstruction by computing the cost matrices. If the tissue space is 1-dimensional (e.g a line), num_neighbours can be reduced to 3.\n"
   ]
  },
  {
   "cell_type": "code",
   "execution_count": 29,
   "metadata": {},
   "outputs": [],
   "source": [
    "tissue.setup_reconstruction(num_neighbors_s = 5, num_neighbors_t = 5)"
   ]
  },
  {
   "cell_type": "markdown",
   "metadata": {},
   "source": [
    "Now we can reconstruct our tissue. The `alpha_linear` parameter controls the contribution of the two branches in `novoSpaRc`: `alpha_linear=0` means that no prior information is available, while `alpha_linear=1` implies that the reconstruction will be only based on the reference marker genes provided. Here we aim for a de novo reconstruction."
   ]
  },
  {
   "cell_type": "code",
   "execution_count": 30,
   "metadata": {},
   "outputs": [
    {
     "name": "stdout",
     "output_type": "stream",
     "text": [
      "Reconstructing spatial information with 0 markers: 1297 cells and 3039 locations ... \n",
      "It.  |Err         \n",
      "-------------------\n",
      "    0|2.305119e-18|\n"
     ]
    }
   ],
   "source": [
    "tissue.reconstruct(alpha_linear=0, epsilon=5e-3)"
   ]
  },
  {
   "cell_type": "markdown",
   "metadata": {},
   "source": [
    "This is the final object: the sDGE (spatial gene expression matrix) holds expression values for the highly variable genes across all locations."
   ]
  },
  {
   "cell_type": "code",
   "execution_count": 31,
   "metadata": {},
   "outputs": [],
   "source": [
    "sdge_hvg = tissue.sdge"
   ]
  },
  {
   "cell_type": "markdown",
   "metadata": {},
   "source": [
    "The reconstruction is based on the highly variable genes only, but the spatial expression of the rest can also be recovered"
   ]
  },
  {
   "cell_type": "code",
   "execution_count": 32,
   "metadata": {},
   "outputs": [
    {
     "name": "stdout",
     "output_type": "stream",
     "text": [
      "(476, 3039)\n"
     ]
    }
   ],
   "source": [
    "print(sdge_hvg.shape)"
   ]
  },
  {
   "cell_type": "code",
   "execution_count": 33,
   "metadata": {},
   "outputs": [
    {
     "name": "stdout",
     "output_type": "stream",
     "text": [
      "dimensions of the sDGE (genes, locations): (8924, 3039)\n"
     ]
    }
   ],
   "source": [
    "sdge = tissue.calculate_sdge_for_all_genes()\n",
    "print ('dimensions of the sDGE (genes, locations):', sdge.shape)"
   ]
  },
  {
   "cell_type": "markdown",
   "metadata": {},
   "source": [
    "### Plot spatial gene expression\n",
    "Plot gene expression patterns in space. In this case the de novo reconstruction is not enough to recover the expression pattern of `ftz` from the data."
   ]
  },
  {
   "cell_type": "code",
   "execution_count": 41,
   "metadata": {},
   "outputs": [],
   "source": [
    "plt.figure(figsize=(12,4))\n",
    "plt.subplot(231)\n",
    "plt.scatter(locations[:, 0], locations[:, 1], c=sdge[np.argwhere(gene_names == 'ftz')[0], :].flatten(), s=1)\n",
    "plt.axis('off')\n",
    "plt.subplot(232)\n",
    "plt.scatter(locations[:, 0], locations[:, 1], c=sdge[np.argwhere(gene_names == 'twi')[0], :].flatten(), s=1)\n",
    "plt.axis('off')\n",
    "plt.subplot(233)\n",
    "plt.scatter(locations[:, 0], locations[:, 1], c=sdge[np.argwhere(gene_names == 'zen')[0], :].flatten(), s=1)\n",
    "plt.axis('off')\n",
    "plt.subplot(234)\n",
    "plt.scatter(locations[:, 0], locations[:, 1], c=sdge[np.argwhere(gene_names == 'ImpE2')[0], :].flatten(), s=1)\n",
    "plt.axis('off')\n",
    "plt.subplot(235)\n",
    "plt.scatter(locations[:, 0], locations[:, 1], c=sdge[np.argwhere(gene_names == 'sim')[0], :].flatten(), s=1)\n",
    "plt.axis('off')\n",
    "plt.subplot(236)\n",
    "plt.scatter(locations[:, 0], locations[:, 1], c=sdge[np.argwhere(gene_names == 'pyr')[0], :].flatten(), s=1)\n",
    "plt.axis('off')\n",
    "plt.show()"
   ]
  },
  {
   "cell_type": "code",
   "execution_count": 37,
   "metadata": {},
   "outputs": [
    {
     "data": {
      "text/plain": [
       "array([[5624]])"
      ]
     },
     "execution_count": 37,
     "metadata": {},
     "output_type": "execute_result"
    }
   ],
   "source": [
    "np.argwhere(gene_names == 'ftz')"
   ]
  },
  {
   "cell_type": "code",
   "execution_count": null,
   "metadata": {},
   "outputs": [],
   "source": []
  },
  {
   "cell_type": "markdown",
   "metadata": {},
   "source": [
    "## Reconstruct the tissue by using reference marker genes\n",
    "Available reference marker genes assist `novoSpaRc` and result in general in a much better reconstruction. The setup of the reconstruction is the same as before. Here we only need to compute the cost matrix for the reference marker genes. First, import the locations and reference database."
   ]
  },
  {
   "cell_type": "code",
   "execution_count": 35,
   "metadata": {},
   "outputs": [],
   "source": [
    "import os\n",
    "import pandas as pd\n",
    "target_space_path = 'novosparc/datasets/bdtnp/geometry.txt'\n",
    "locations = pd.read_csv(target_space_path, sep=' ')\n",
    "num_locations = 3039\n",
    "locations = locations[:num_locations][['xcoord', 'zcoord']].values"
   ]
  },
  {
   "cell_type": "code",
   "execution_count": 36,
   "metadata": {},
   "outputs": [],
   "source": [
    "# bdtnp.txt is actually named dge.txt - this file only contains 3039 cells\n",
    "bdtnp_path = 'novosparc/datasets/bdtnp/dge.txt'\n",
    "insitu_genes = np.genfromtxt(bdtnp_path, usecols=range(84), dtype='str', max_rows=1)\n",
    "insitu_matrix = np.loadtxt(bdtnp_path, usecols=range(84), skiprows=1)"
   ]
  },
  {
   "cell_type": "code",
   "execution_count": null,
   "metadata": {},
   "outputs": [],
   "source": [
    "tissue_with_markers = novosparc.cm.Tissue(dataset=dataset.raw.to_adata(), locations=locations)"
   ]
  },
  {
   "cell_type": "markdown",
   "metadata": {},
   "source": [
    "Then find the indices of the marker genes in the scRNAseq dataset"
   ]
  },
  {
   "cell_type": "code",
   "execution_count": null,
   "metadata": {},
   "outputs": [],
   "source": [
    "gene_names = tissue_with_markers.gene_names\n",
    "markers_in_sc = np.array([], dtype='int')\n",
    "for marker in insitu_genes:\n",
    "    marker_index = np.where(gene_names == marker)[0]\n",
    "    if len(marker_index) > 0:\n",
    "        markers_in_sc = np.append(markers_in_sc, marker_index[0])"
   ]
  },
  {
   "cell_type": "code",
   "execution_count": null,
   "metadata": {},
   "outputs": [],
   "source": [
    "tissue_with_markers.setup_reconstruction(markers_to_use=markers_in_sc, insitu_matrix=insitu_matrix)"
   ]
  },
  {
   "cell_type": "markdown",
   "metadata": {},
   "source": [
    "Choose a different value for `alpha_linear`. Here we choose `0.5`, meaning the geometric and gen marker components are equally weighted for the reconstruction."
   ]
  },
  {
   "cell_type": "code",
   "execution_count": null,
   "metadata": {},
   "outputs": [],
   "source": [
    "tissue_with_markers.reconstruct(alpha_linear=0.5, epsilon=5e-3)"
   ]
  },
  {
   "cell_type": "markdown",
   "metadata": {},
   "source": [
    "Compute the sDGE and plot spatial gene expression patterns"
   ]
  },
  {
   "cell_type": "code",
   "execution_count": null,
   "metadata": {},
   "outputs": [],
   "source": [
    "sdge = tissue_with_markers.sdge\n",
    "print ('dimensions of the sDGE (genes, locations):', sdge.shape)"
   ]
  },
  {
   "cell_type": "code",
   "execution_count": null,
   "metadata": {},
   "outputs": [],
   "source": [
    "plt.figure(figsize=(12,4))\n",
    "plt.subplot(231)\n",
    "plt.scatter(locations[:, 0], locations[:, 1], c=sdge[np.argwhere(gene_names == 'ftz')[0], :].flatten(), s=1)\n",
    "plt.axis('off')\n",
    "plt.subplot(232)\n",
    "plt.scatter(locations[:, 0], locations[:, 1], c=sdge[np.argwhere(gene_names == 'twi')[0], :].flatten(), s=1)\n",
    "plt.axis('off')\n",
    "plt.subplot(233)\n",
    "plt.scatter(locations[:, 0], locations[:, 1], c=sdge[np.argwhere(gene_names == 'zen')[0], :].flatten(), s=1)\n",
    "plt.axis('off')\n",
    "plt.subplot(234)\n",
    "plt.scatter(locations[:, 0], locations[:, 1], c=sdge[np.argwhere(gene_names == 'ImpE2')[0], :].flatten(), s=1)\n",
    "plt.axis('off')\n",
    "plt.subplot(235)\n",
    "plt.scatter(locations[:, 0], locations[:, 1], c=sdge[np.argwhere(gene_names == 'sim')[0], :].flatten(), s=1)\n",
    "plt.axis('off')\n",
    "plt.subplot(236)\n",
    "plt.scatter(locations[:, 0], locations[:, 1], c=sdge[np.argwhere(gene_names == 'pyr')[0], :].flatten(), s=1)\n",
    "plt.axis('off')\n",
    "plt.show()\n",
    "plt.close()"
   ]
  },
  {
   "cell_type": "code",
   "execution_count": null,
   "metadata": {},
   "outputs": [],
   "source": []
  }
 ],
 "metadata": {
  "kernelspec": {
   "display_name": "Python 3",
   "language": "python",
   "name": "python3"
  },
  "language_info": {
   "codemirror_mode": {
    "name": "ipython",
    "version": 3
   },
   "file_extension": ".py",
   "mimetype": "text/x-python",
   "name": "python",
   "nbconvert_exporter": "python",
   "pygments_lexer": "ipython3",
   "version": "3.8.1"
  }
 },
 "nbformat": 4,
 "nbformat_minor": 2
}
